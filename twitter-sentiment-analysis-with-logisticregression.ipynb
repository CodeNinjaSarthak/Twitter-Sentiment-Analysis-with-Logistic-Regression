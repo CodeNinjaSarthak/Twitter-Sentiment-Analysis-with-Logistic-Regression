{
 "cells": [
  {
   "cell_type": "code",
   "execution_count": 1,
   "id": "c18905f8",
   "metadata": {
    "_cell_guid": "b1076dfc-b9ad-4769-8c92-a6c4dae69d19",
    "_uuid": "8f2839f25d086af736a60e9eeb907d3b93b6e0e5",
    "execution": {
     "iopub.execute_input": "2024-09-15T13:09:00.518776Z",
     "iopub.status.busy": "2024-09-15T13:09:00.518341Z",
     "iopub.status.idle": "2024-09-15T13:09:00.987181Z",
     "shell.execute_reply": "2024-09-15T13:09:00.985851Z"
    },
    "papermill": {
     "duration": 0.483736,
     "end_time": "2024-09-15T13:09:00.989723",
     "exception": false,
     "start_time": "2024-09-15T13:09:00.505987",
     "status": "completed"
    },
    "tags": []
   },
   "outputs": [
    {
     "name": "stdout",
     "output_type": "stream",
     "text": [
      "/kaggle/input/sentiment140/training.1600000.processed.noemoticon.csv\n"
     ]
    }
   ],
   "source": [
    "# This Python 3 environment comes with many helpful analytics libraries installed\n",
    "# It is defined by the kaggle/python Docker image: https://github.com/kaggle/docker-python\n",
    "# For example, here's several helpful packages to load\n",
    "\n",
    "import numpy as np # linear algebra\n",
    "import pandas as pd # data processing, CSV file I/O (e.g. pd.read_csv)\n",
    "\n",
    "# Input data files are available in the read-only \"../input/\" directory\n",
    "# For example, running this (by clicking run or pressing Shift+Enter) will list all files under the input directory\n",
    "\n",
    "import os\n",
    "for dirname, _, filenames in os.walk('/kaggle/input'):\n",
    "    for filename in filenames:\n",
    "        print(os.path.join(dirname, filename))\n",
    "\n",
    "# You can write up to 20GB to the current directory (/kaggle/working/) that gets preserved as output when you create a version using \"Save & Run All\" \n",
    "# You can also write temporary files to /kaggle/temp/, but they won't be saved outside of the current session"
   ]
  },
  {
   "cell_type": "markdown",
   "id": "2fc9d810",
   "metadata": {
    "papermill": {
     "duration": 0.010404,
     "end_time": "2024-09-15T13:09:01.011020",
     "exception": false,
     "start_time": "2024-09-15T13:09:01.000616",
     "status": "completed"
    },
    "tags": []
   },
   "source": [
    "<h2>Importing Libraries"
   ]
  },
  {
   "cell_type": "code",
   "execution_count": 2,
   "id": "d1568d35",
   "metadata": {
    "execution": {
     "iopub.execute_input": "2024-09-15T13:09:01.033815Z",
     "iopub.status.busy": "2024-09-15T13:09:01.033232Z",
     "iopub.status.idle": "2024-09-15T13:09:03.232080Z",
     "shell.execute_reply": "2024-09-15T13:09:03.230929Z"
    },
    "papermill": {
     "duration": 2.213455,
     "end_time": "2024-09-15T13:09:03.234973",
     "exception": false,
     "start_time": "2024-09-15T13:09:01.021518",
     "status": "completed"
    },
    "tags": []
   },
   "outputs": [],
   "source": [
    "import pandas as pd\n",
    "import numpy as np\n",
    "import re\n",
    "from nltk.corpus import stopwords\n",
    "from nltk.stem.porter import PorterStemmer\n",
    "from sklearn.feature_extraction.text import TfidfVectorizer\n",
    "from sklearn.model_selection import train_test_split\n",
    "from sklearn.linear_model import LogisticRegression\n",
    "from sklearn.metrics import accuracy_score, precision_score, recall_score, f1_score\n",
    "from sklearn.metrics import confusion_matrix, classification_report"
   ]
  },
  {
   "cell_type": "code",
   "execution_count": 3,
   "id": "f99e8493",
   "metadata": {
    "execution": {
     "iopub.execute_input": "2024-09-15T13:09:03.258527Z",
     "iopub.status.busy": "2024-09-15T13:09:03.257348Z",
     "iopub.status.idle": "2024-09-15T13:09:03.349695Z",
     "shell.execute_reply": "2024-09-15T13:09:03.348559Z"
    },
    "papermill": {
     "duration": 0.107023,
     "end_time": "2024-09-15T13:09:03.352560",
     "exception": false,
     "start_time": "2024-09-15T13:09:03.245537",
     "status": "completed"
    },
    "tags": []
   },
   "outputs": [
    {
     "name": "stdout",
     "output_type": "stream",
     "text": [
      "[nltk_data] Downloading package stopwords to /usr/share/nltk_data...\n",
      "[nltk_data]   Package stopwords is already up-to-date!\n"
     ]
    },
    {
     "data": {
      "text/plain": [
       "True"
      ]
     },
     "execution_count": 3,
     "metadata": {},
     "output_type": "execute_result"
    }
   ],
   "source": [
    "import nltk\n",
    "nltk.download('stopwords')"
   ]
  },
  {
   "cell_type": "code",
   "execution_count": 4,
   "id": "46199ef2",
   "metadata": {
    "execution": {
     "iopub.execute_input": "2024-09-15T13:09:03.375175Z",
     "iopub.status.busy": "2024-09-15T13:09:03.374706Z",
     "iopub.status.idle": "2024-09-15T13:09:03.384277Z",
     "shell.execute_reply": "2024-09-15T13:09:03.383023Z"
    },
    "papermill": {
     "duration": 0.023776,
     "end_time": "2024-09-15T13:09:03.386796",
     "exception": false,
     "start_time": "2024-09-15T13:09:03.363020",
     "status": "completed"
    },
    "tags": []
   },
   "outputs": [
    {
     "name": "stdout",
     "output_type": "stream",
     "text": [
      "['i', 'me', 'my', 'myself', 'we', 'our', 'ours', 'ourselves', 'you', \"you're\", \"you've\", \"you'll\", \"you'd\", 'your', 'yours', 'yourself', 'yourselves', 'he', 'him', 'his', 'himself', 'she', \"she's\", 'her', 'hers', 'herself', 'it', \"it's\", 'its', 'itself', 'they', 'them', 'their', 'theirs', 'themselves', 'what', 'which', 'who', 'whom', 'this', 'that', \"that'll\", 'these', 'those', 'am', 'is', 'are', 'was', 'were', 'be', 'been', 'being', 'have', 'has', 'had', 'having', 'do', 'does', 'did', 'doing', 'a', 'an', 'the', 'and', 'but', 'if', 'or', 'because', 'as', 'until', 'while', 'of', 'at', 'by', 'for', 'with', 'about', 'against', 'between', 'into', 'through', 'during', 'before', 'after', 'above', 'below', 'to', 'from', 'up', 'down', 'in', 'out', 'on', 'off', 'over', 'under', 'again', 'further', 'then', 'once', 'here', 'there', 'when', 'where', 'why', 'how', 'all', 'any', 'both', 'each', 'few', 'more', 'most', 'other', 'some', 'such', 'no', 'nor', 'not', 'only', 'own', 'same', 'so', 'than', 'too', 'very', 's', 't', 'can', 'will', 'just', 'don', \"don't\", 'should', \"should've\", 'now', 'd', 'll', 'm', 'o', 're', 've', 'y', 'ain', 'aren', \"aren't\", 'couldn', \"couldn't\", 'didn', \"didn't\", 'doesn', \"doesn't\", 'hadn', \"hadn't\", 'hasn', \"hasn't\", 'haven', \"haven't\", 'isn', \"isn't\", 'ma', 'mightn', \"mightn't\", 'mustn', \"mustn't\", 'needn', \"needn't\", 'shan', \"shan't\", 'shouldn', \"shouldn't\", 'wasn', \"wasn't\", 'weren', \"weren't\", 'won', \"won't\", 'wouldn', \"wouldn't\"]\n"
     ]
    }
   ],
   "source": [
    "# printing the stopwords in english\n",
    "print(stopwords.words('english'))\n",
    "#these words are not required as they don't add much importance\n",
    "#it also reduce the size of the dataset"
   ]
  },
  {
   "cell_type": "markdown",
   "id": "769f1689",
   "metadata": {
    "papermill": {
     "duration": 0.010155,
     "end_time": "2024-09-15T13:09:03.407760",
     "exception": false,
     "start_time": "2024-09-15T13:09:03.397605",
     "status": "completed"
    },
    "tags": []
   },
   "source": [
    "<h2>Data Processing"
   ]
  },
  {
   "cell_type": "code",
   "execution_count": 5,
   "id": "9e2aaf39",
   "metadata": {
    "execution": {
     "iopub.execute_input": "2024-09-15T13:09:03.431453Z",
     "iopub.status.busy": "2024-09-15T13:09:03.430347Z",
     "iopub.status.idle": "2024-09-15T13:09:10.901533Z",
     "shell.execute_reply": "2024-09-15T13:09:10.900128Z"
    },
    "papermill": {
     "duration": 7.485731,
     "end_time": "2024-09-15T13:09:10.904026",
     "exception": false,
     "start_time": "2024-09-15T13:09:03.418295",
     "status": "completed"
    },
    "tags": []
   },
   "outputs": [
    {
     "data": {
      "text/html": [
       "<div>\n",
       "<style scoped>\n",
       "    .dataframe tbody tr th:only-of-type {\n",
       "        vertical-align: middle;\n",
       "    }\n",
       "\n",
       "    .dataframe tbody tr th {\n",
       "        vertical-align: top;\n",
       "    }\n",
       "\n",
       "    .dataframe thead th {\n",
       "        text-align: right;\n",
       "    }\n",
       "</style>\n",
       "<table border=\"1\" class=\"dataframe\">\n",
       "  <thead>\n",
       "    <tr style=\"text-align: right;\">\n",
       "      <th></th>\n",
       "      <th>0</th>\n",
       "      <th>1467810369</th>\n",
       "      <th>Mon Apr 06 22:19:45 PDT 2009</th>\n",
       "      <th>NO_QUERY</th>\n",
       "      <th>_TheSpecialOne_</th>\n",
       "      <th>@switchfoot http://twitpic.com/2y1zl - Awww, that's a bummer.  You shoulda got David Carr of Third Day to do it. ;D</th>\n",
       "    </tr>\n",
       "  </thead>\n",
       "  <tbody>\n",
       "    <tr>\n",
       "      <th>0</th>\n",
       "      <td>0</td>\n",
       "      <td>1467810672</td>\n",
       "      <td>Mon Apr 06 22:19:49 PDT 2009</td>\n",
       "      <td>NO_QUERY</td>\n",
       "      <td>scotthamilton</td>\n",
       "      <td>is upset that he can't update his Facebook by ...</td>\n",
       "    </tr>\n",
       "    <tr>\n",
       "      <th>1</th>\n",
       "      <td>0</td>\n",
       "      <td>1467810917</td>\n",
       "      <td>Mon Apr 06 22:19:53 PDT 2009</td>\n",
       "      <td>NO_QUERY</td>\n",
       "      <td>mattycus</td>\n",
       "      <td>@Kenichan I dived many times for the ball. Man...</td>\n",
       "    </tr>\n",
       "    <tr>\n",
       "      <th>2</th>\n",
       "      <td>0</td>\n",
       "      <td>1467811184</td>\n",
       "      <td>Mon Apr 06 22:19:57 PDT 2009</td>\n",
       "      <td>NO_QUERY</td>\n",
       "      <td>ElleCTF</td>\n",
       "      <td>my whole body feels itchy and like its on fire</td>\n",
       "    </tr>\n",
       "    <tr>\n",
       "      <th>3</th>\n",
       "      <td>0</td>\n",
       "      <td>1467811193</td>\n",
       "      <td>Mon Apr 06 22:19:57 PDT 2009</td>\n",
       "      <td>NO_QUERY</td>\n",
       "      <td>Karoli</td>\n",
       "      <td>@nationwideclass no, it's not behaving at all....</td>\n",
       "    </tr>\n",
       "    <tr>\n",
       "      <th>4</th>\n",
       "      <td>0</td>\n",
       "      <td>1467811372</td>\n",
       "      <td>Mon Apr 06 22:20:00 PDT 2009</td>\n",
       "      <td>NO_QUERY</td>\n",
       "      <td>joy_wolf</td>\n",
       "      <td>@Kwesidei not the whole crew</td>\n",
       "    </tr>\n",
       "    <tr>\n",
       "      <th>...</th>\n",
       "      <td>...</td>\n",
       "      <td>...</td>\n",
       "      <td>...</td>\n",
       "      <td>...</td>\n",
       "      <td>...</td>\n",
       "      <td>...</td>\n",
       "    </tr>\n",
       "    <tr>\n",
       "      <th>1599994</th>\n",
       "      <td>4</td>\n",
       "      <td>2193601966</td>\n",
       "      <td>Tue Jun 16 08:40:49 PDT 2009</td>\n",
       "      <td>NO_QUERY</td>\n",
       "      <td>AmandaMarie1028</td>\n",
       "      <td>Just woke up. Having no school is the best fee...</td>\n",
       "    </tr>\n",
       "    <tr>\n",
       "      <th>1599995</th>\n",
       "      <td>4</td>\n",
       "      <td>2193601969</td>\n",
       "      <td>Tue Jun 16 08:40:49 PDT 2009</td>\n",
       "      <td>NO_QUERY</td>\n",
       "      <td>TheWDBoards</td>\n",
       "      <td>TheWDB.com - Very cool to hear old Walt interv...</td>\n",
       "    </tr>\n",
       "    <tr>\n",
       "      <th>1599996</th>\n",
       "      <td>4</td>\n",
       "      <td>2193601991</td>\n",
       "      <td>Tue Jun 16 08:40:49 PDT 2009</td>\n",
       "      <td>NO_QUERY</td>\n",
       "      <td>bpbabe</td>\n",
       "      <td>Are you ready for your MoJo Makeover? Ask me f...</td>\n",
       "    </tr>\n",
       "    <tr>\n",
       "      <th>1599997</th>\n",
       "      <td>4</td>\n",
       "      <td>2193602064</td>\n",
       "      <td>Tue Jun 16 08:40:49 PDT 2009</td>\n",
       "      <td>NO_QUERY</td>\n",
       "      <td>tinydiamondz</td>\n",
       "      <td>Happy 38th Birthday to my boo of alll time!!! ...</td>\n",
       "    </tr>\n",
       "    <tr>\n",
       "      <th>1599998</th>\n",
       "      <td>4</td>\n",
       "      <td>2193602129</td>\n",
       "      <td>Tue Jun 16 08:40:50 PDT 2009</td>\n",
       "      <td>NO_QUERY</td>\n",
       "      <td>RyanTrevMorris</td>\n",
       "      <td>happy #charitytuesday @theNSPCC @SparksCharity...</td>\n",
       "    </tr>\n",
       "  </tbody>\n",
       "</table>\n",
       "<p>1599999 rows × 6 columns</p>\n",
       "</div>"
      ],
      "text/plain": [
       "         0  1467810369  Mon Apr 06 22:19:45 PDT 2009  NO_QUERY  \\\n",
       "0        0  1467810672  Mon Apr 06 22:19:49 PDT 2009  NO_QUERY   \n",
       "1        0  1467810917  Mon Apr 06 22:19:53 PDT 2009  NO_QUERY   \n",
       "2        0  1467811184  Mon Apr 06 22:19:57 PDT 2009  NO_QUERY   \n",
       "3        0  1467811193  Mon Apr 06 22:19:57 PDT 2009  NO_QUERY   \n",
       "4        0  1467811372  Mon Apr 06 22:20:00 PDT 2009  NO_QUERY   \n",
       "...     ..         ...                           ...       ...   \n",
       "1599994  4  2193601966  Tue Jun 16 08:40:49 PDT 2009  NO_QUERY   \n",
       "1599995  4  2193601969  Tue Jun 16 08:40:49 PDT 2009  NO_QUERY   \n",
       "1599996  4  2193601991  Tue Jun 16 08:40:49 PDT 2009  NO_QUERY   \n",
       "1599997  4  2193602064  Tue Jun 16 08:40:49 PDT 2009  NO_QUERY   \n",
       "1599998  4  2193602129  Tue Jun 16 08:40:50 PDT 2009  NO_QUERY   \n",
       "\n",
       "         _TheSpecialOne_  \\\n",
       "0          scotthamilton   \n",
       "1               mattycus   \n",
       "2                ElleCTF   \n",
       "3                 Karoli   \n",
       "4               joy_wolf   \n",
       "...                  ...   \n",
       "1599994  AmandaMarie1028   \n",
       "1599995      TheWDBoards   \n",
       "1599996           bpbabe   \n",
       "1599997     tinydiamondz   \n",
       "1599998   RyanTrevMorris   \n",
       "\n",
       "        @switchfoot http://twitpic.com/2y1zl - Awww, that's a bummer.  You shoulda got David Carr of Third Day to do it. ;D  \n",
       "0        is upset that he can't update his Facebook by ...                                                                   \n",
       "1        @Kenichan I dived many times for the ball. Man...                                                                   \n",
       "2          my whole body feels itchy and like its on fire                                                                    \n",
       "3        @nationwideclass no, it's not behaving at all....                                                                   \n",
       "4                            @Kwesidei not the whole crew                                                                    \n",
       "...                                                    ...                                                                   \n",
       "1599994  Just woke up. Having no school is the best fee...                                                                   \n",
       "1599995  TheWDB.com - Very cool to hear old Walt interv...                                                                   \n",
       "1599996  Are you ready for your MoJo Makeover? Ask me f...                                                                   \n",
       "1599997  Happy 38th Birthday to my boo of alll time!!! ...                                                                   \n",
       "1599998  happy #charitytuesday @theNSPCC @SparksCharity...                                                                   \n",
       "\n",
       "[1599999 rows x 6 columns]"
      ]
     },
     "execution_count": 5,
     "metadata": {},
     "output_type": "execute_result"
    }
   ],
   "source": [
    "#loading the data from csv file\n",
    "twitter_data = pd.read_csv('/kaggle/input/sentiment140/training.1600000.processed.noemoticon.csv', encoding = 'ISO-8859-1')\n",
    "twitter_data"
   ]
  },
  {
   "cell_type": "code",
   "execution_count": 6,
   "id": "fcbff624",
   "metadata": {
    "execution": {
     "iopub.execute_input": "2024-09-15T13:09:10.929208Z",
     "iopub.status.busy": "2024-09-15T13:09:10.928013Z",
     "iopub.status.idle": "2024-09-15T13:09:16.268011Z",
     "shell.execute_reply": "2024-09-15T13:09:16.266833Z"
    },
    "papermill": {
     "duration": 5.355098,
     "end_time": "2024-09-15T13:09:16.270675",
     "exception": false,
     "start_time": "2024-09-15T13:09:10.915577",
     "status": "completed"
    },
    "tags": []
   },
   "outputs": [
    {
     "data": {
      "text/html": [
       "<div>\n",
       "<style scoped>\n",
       "    .dataframe tbody tr th:only-of-type {\n",
       "        vertical-align: middle;\n",
       "    }\n",
       "\n",
       "    .dataframe tbody tr th {\n",
       "        vertical-align: top;\n",
       "    }\n",
       "\n",
       "    .dataframe thead th {\n",
       "        text-align: right;\n",
       "    }\n",
       "</style>\n",
       "<table border=\"1\" class=\"dataframe\">\n",
       "  <thead>\n",
       "    <tr style=\"text-align: right;\">\n",
       "      <th></th>\n",
       "      <th>target</th>\n",
       "      <th>id</th>\n",
       "      <th>date</th>\n",
       "      <th>flag</th>\n",
       "      <th>user</th>\n",
       "      <th>text</th>\n",
       "    </tr>\n",
       "  </thead>\n",
       "  <tbody>\n",
       "    <tr>\n",
       "      <th>0</th>\n",
       "      <td>0</td>\n",
       "      <td>1467810369</td>\n",
       "      <td>Mon Apr 06 22:19:45 PDT 2009</td>\n",
       "      <td>NO_QUERY</td>\n",
       "      <td>_TheSpecialOne_</td>\n",
       "      <td>@switchfoot http://twitpic.com/2y1zl - Awww, t...</td>\n",
       "    </tr>\n",
       "    <tr>\n",
       "      <th>1</th>\n",
       "      <td>0</td>\n",
       "      <td>1467810672</td>\n",
       "      <td>Mon Apr 06 22:19:49 PDT 2009</td>\n",
       "      <td>NO_QUERY</td>\n",
       "      <td>scotthamilton</td>\n",
       "      <td>is upset that he can't update his Facebook by ...</td>\n",
       "    </tr>\n",
       "    <tr>\n",
       "      <th>2</th>\n",
       "      <td>0</td>\n",
       "      <td>1467810917</td>\n",
       "      <td>Mon Apr 06 22:19:53 PDT 2009</td>\n",
       "      <td>NO_QUERY</td>\n",
       "      <td>mattycus</td>\n",
       "      <td>@Kenichan I dived many times for the ball. Man...</td>\n",
       "    </tr>\n",
       "    <tr>\n",
       "      <th>3</th>\n",
       "      <td>0</td>\n",
       "      <td>1467811184</td>\n",
       "      <td>Mon Apr 06 22:19:57 PDT 2009</td>\n",
       "      <td>NO_QUERY</td>\n",
       "      <td>ElleCTF</td>\n",
       "      <td>my whole body feels itchy and like its on fire</td>\n",
       "    </tr>\n",
       "    <tr>\n",
       "      <th>4</th>\n",
       "      <td>0</td>\n",
       "      <td>1467811193</td>\n",
       "      <td>Mon Apr 06 22:19:57 PDT 2009</td>\n",
       "      <td>NO_QUERY</td>\n",
       "      <td>Karoli</td>\n",
       "      <td>@nationwideclass no, it's not behaving at all....</td>\n",
       "    </tr>\n",
       "    <tr>\n",
       "      <th>...</th>\n",
       "      <td>...</td>\n",
       "      <td>...</td>\n",
       "      <td>...</td>\n",
       "      <td>...</td>\n",
       "      <td>...</td>\n",
       "      <td>...</td>\n",
       "    </tr>\n",
       "    <tr>\n",
       "      <th>1599995</th>\n",
       "      <td>4</td>\n",
       "      <td>2193601966</td>\n",
       "      <td>Tue Jun 16 08:40:49 PDT 2009</td>\n",
       "      <td>NO_QUERY</td>\n",
       "      <td>AmandaMarie1028</td>\n",
       "      <td>Just woke up. Having no school is the best fee...</td>\n",
       "    </tr>\n",
       "    <tr>\n",
       "      <th>1599996</th>\n",
       "      <td>4</td>\n",
       "      <td>2193601969</td>\n",
       "      <td>Tue Jun 16 08:40:49 PDT 2009</td>\n",
       "      <td>NO_QUERY</td>\n",
       "      <td>TheWDBoards</td>\n",
       "      <td>TheWDB.com - Very cool to hear old Walt interv...</td>\n",
       "    </tr>\n",
       "    <tr>\n",
       "      <th>1599997</th>\n",
       "      <td>4</td>\n",
       "      <td>2193601991</td>\n",
       "      <td>Tue Jun 16 08:40:49 PDT 2009</td>\n",
       "      <td>NO_QUERY</td>\n",
       "      <td>bpbabe</td>\n",
       "      <td>Are you ready for your MoJo Makeover? Ask me f...</td>\n",
       "    </tr>\n",
       "    <tr>\n",
       "      <th>1599998</th>\n",
       "      <td>4</td>\n",
       "      <td>2193602064</td>\n",
       "      <td>Tue Jun 16 08:40:49 PDT 2009</td>\n",
       "      <td>NO_QUERY</td>\n",
       "      <td>tinydiamondz</td>\n",
       "      <td>Happy 38th Birthday to my boo of alll time!!! ...</td>\n",
       "    </tr>\n",
       "    <tr>\n",
       "      <th>1599999</th>\n",
       "      <td>4</td>\n",
       "      <td>2193602129</td>\n",
       "      <td>Tue Jun 16 08:40:50 PDT 2009</td>\n",
       "      <td>NO_QUERY</td>\n",
       "      <td>RyanTrevMorris</td>\n",
       "      <td>happy #charitytuesday @theNSPCC @SparksCharity...</td>\n",
       "    </tr>\n",
       "  </tbody>\n",
       "</table>\n",
       "<p>1600000 rows × 6 columns</p>\n",
       "</div>"
      ],
      "text/plain": [
       "         target          id                          date      flag  \\\n",
       "0             0  1467810369  Mon Apr 06 22:19:45 PDT 2009  NO_QUERY   \n",
       "1             0  1467810672  Mon Apr 06 22:19:49 PDT 2009  NO_QUERY   \n",
       "2             0  1467810917  Mon Apr 06 22:19:53 PDT 2009  NO_QUERY   \n",
       "3             0  1467811184  Mon Apr 06 22:19:57 PDT 2009  NO_QUERY   \n",
       "4             0  1467811193  Mon Apr 06 22:19:57 PDT 2009  NO_QUERY   \n",
       "...         ...         ...                           ...       ...   \n",
       "1599995       4  2193601966  Tue Jun 16 08:40:49 PDT 2009  NO_QUERY   \n",
       "1599996       4  2193601969  Tue Jun 16 08:40:49 PDT 2009  NO_QUERY   \n",
       "1599997       4  2193601991  Tue Jun 16 08:40:49 PDT 2009  NO_QUERY   \n",
       "1599998       4  2193602064  Tue Jun 16 08:40:49 PDT 2009  NO_QUERY   \n",
       "1599999       4  2193602129  Tue Jun 16 08:40:50 PDT 2009  NO_QUERY   \n",
       "\n",
       "                    user                                               text  \n",
       "0        _TheSpecialOne_  @switchfoot http://twitpic.com/2y1zl - Awww, t...  \n",
       "1          scotthamilton  is upset that he can't update his Facebook by ...  \n",
       "2               mattycus  @Kenichan I dived many times for the ball. Man...  \n",
       "3                ElleCTF    my whole body feels itchy and like its on fire   \n",
       "4                 Karoli  @nationwideclass no, it's not behaving at all....  \n",
       "...                  ...                                                ...  \n",
       "1599995  AmandaMarie1028  Just woke up. Having no school is the best fee...  \n",
       "1599996      TheWDBoards  TheWDB.com - Very cool to hear old Walt interv...  \n",
       "1599997           bpbabe  Are you ready for your MoJo Makeover? Ask me f...  \n",
       "1599998     tinydiamondz  Happy 38th Birthday to my boo of alll time!!! ...  \n",
       "1599999   RyanTrevMorris  happy #charitytuesday @theNSPCC @SparksCharity...  \n",
       "\n",
       "[1600000 rows x 6 columns]"
      ]
     },
     "execution_count": 6,
     "metadata": {},
     "output_type": "execute_result"
    }
   ],
   "source": [
    "#naming the columns\n",
    "columns_names = ['target', 'id', 'date', 'flag', 'user', 'text']\n",
    "twitter_data = pd.read_csv('/kaggle/input/sentiment140/training.1600000.processed.noemoticon.csv', names = columns_names, encoding = 'ISO-8859-1')\n",
    "twitter_data"
   ]
  },
  {
   "cell_type": "code",
   "execution_count": 7,
   "id": "fa6dea66",
   "metadata": {
    "execution": {
     "iopub.execute_input": "2024-09-15T13:09:16.295508Z",
     "iopub.status.busy": "2024-09-15T13:09:16.295037Z",
     "iopub.status.idle": "2024-09-15T13:09:16.302744Z",
     "shell.execute_reply": "2024-09-15T13:09:16.301514Z"
    },
    "papermill": {
     "duration": 0.022959,
     "end_time": "2024-09-15T13:09:16.305066",
     "exception": false,
     "start_time": "2024-09-15T13:09:16.282107",
     "status": "completed"
    },
    "tags": []
   },
   "outputs": [
    {
     "data": {
      "text/plain": [
       "(1600000, 6)"
      ]
     },
     "execution_count": 7,
     "metadata": {},
     "output_type": "execute_result"
    }
   ],
   "source": [
    "twitter_data.shape"
   ]
  },
  {
   "cell_type": "code",
   "execution_count": 8,
   "id": "9af5bb66",
   "metadata": {
    "execution": {
     "iopub.execute_input": "2024-09-15T13:09:16.337772Z",
     "iopub.status.busy": "2024-09-15T13:09:16.336570Z",
     "iopub.status.idle": "2024-09-15T13:09:17.057825Z",
     "shell.execute_reply": "2024-09-15T13:09:17.056715Z"
    },
    "papermill": {
     "duration": 0.739618,
     "end_time": "2024-09-15T13:09:17.060635",
     "exception": false,
     "start_time": "2024-09-15T13:09:16.321017",
     "status": "completed"
    },
    "tags": []
   },
   "outputs": [
    {
     "data": {
      "text/plain": [
       "target    0\n",
       "id        0\n",
       "date      0\n",
       "flag      0\n",
       "user      0\n",
       "text      0\n",
       "dtype: int64"
      ]
     },
     "execution_count": 8,
     "metadata": {},
     "output_type": "execute_result"
    }
   ],
   "source": [
    "#counting the number of missing values\n",
    "twitter_data.isnull().sum()"
   ]
  },
  {
   "cell_type": "code",
   "execution_count": 9,
   "id": "9baccb16",
   "metadata": {
    "execution": {
     "iopub.execute_input": "2024-09-15T13:09:17.087083Z",
     "iopub.status.busy": "2024-09-15T13:09:17.086061Z",
     "iopub.status.idle": "2024-09-15T13:09:19.301074Z",
     "shell.execute_reply": "2024-09-15T13:09:19.299824Z"
    },
    "papermill": {
     "duration": 2.231294,
     "end_time": "2024-09-15T13:09:19.303865",
     "exception": false,
     "start_time": "2024-09-15T13:09:17.072571",
     "status": "completed"
    },
    "tags": []
   },
   "outputs": [
    {
     "data": {
      "text/plain": [
       "0"
      ]
     },
     "execution_count": 9,
     "metadata": {},
     "output_type": "execute_result"
    }
   ],
   "source": [
    "#counting the number of duplicate values\n",
    "twitter_data.duplicated().sum()"
   ]
  },
  {
   "cell_type": "code",
   "execution_count": 10,
   "id": "2e8d7cb5",
   "metadata": {
    "execution": {
     "iopub.execute_input": "2024-09-15T13:09:19.329940Z",
     "iopub.status.busy": "2024-09-15T13:09:19.329508Z",
     "iopub.status.idle": "2024-09-15T13:09:19.356094Z",
     "shell.execute_reply": "2024-09-15T13:09:19.354942Z"
    },
    "papermill": {
     "duration": 0.042629,
     "end_time": "2024-09-15T13:09:19.358460",
     "exception": false,
     "start_time": "2024-09-15T13:09:19.315831",
     "status": "completed"
    },
    "tags": []
   },
   "outputs": [
    {
     "data": {
      "text/plain": [
       "target\n",
       "0    800000\n",
       "4    800000\n",
       "Name: count, dtype: int64"
      ]
     },
     "execution_count": 10,
     "metadata": {},
     "output_type": "execute_result"
    }
   ],
   "source": [
    "#checking the distribution of target\n",
    "twitter_data['target'].value_counts()"
   ]
  },
  {
   "cell_type": "markdown",
   "id": "4598369f",
   "metadata": {
    "papermill": {
     "duration": 0.011651,
     "end_time": "2024-09-15T13:09:19.382033",
     "exception": false,
     "start_time": "2024-09-15T13:09:19.370382",
     "status": "completed"
    },
    "tags": []
   },
   "source": [
    "<h3>Converting the target '4' to '1'"
   ]
  },
  {
   "cell_type": "code",
   "execution_count": 11,
   "id": "5e9ed49f",
   "metadata": {
    "execution": {
     "iopub.execute_input": "2024-09-15T13:09:19.408213Z",
     "iopub.status.busy": "2024-09-15T13:09:19.407206Z",
     "iopub.status.idle": "2024-09-15T13:09:19.428734Z",
     "shell.execute_reply": "2024-09-15T13:09:19.427503Z"
    },
    "papermill": {
     "duration": 0.037856,
     "end_time": "2024-09-15T13:09:19.431844",
     "exception": false,
     "start_time": "2024-09-15T13:09:19.393988",
     "status": "completed"
    },
    "tags": []
   },
   "outputs": [],
   "source": [
    "twitter_data.replace({'target':{4:1}}, inplace = True)"
   ]
  },
  {
   "cell_type": "code",
   "execution_count": 12,
   "id": "ccd6da13",
   "metadata": {
    "execution": {
     "iopub.execute_input": "2024-09-15T13:09:19.458224Z",
     "iopub.status.busy": "2024-09-15T13:09:19.457258Z",
     "iopub.status.idle": "2024-09-15T13:09:19.481509Z",
     "shell.execute_reply": "2024-09-15T13:09:19.480246Z"
    },
    "papermill": {
     "duration": 0.040389,
     "end_time": "2024-09-15T13:09:19.484201",
     "exception": false,
     "start_time": "2024-09-15T13:09:19.443812",
     "status": "completed"
    },
    "tags": []
   },
   "outputs": [
    {
     "data": {
      "text/plain": [
       "target\n",
       "0    800000\n",
       "1    800000\n",
       "Name: count, dtype: int64"
      ]
     },
     "execution_count": 12,
     "metadata": {},
     "output_type": "execute_result"
    }
   ],
   "source": [
    "#checking the distribution of target\n",
    "twitter_data['target'].value_counts()"
   ]
  },
  {
   "cell_type": "markdown",
   "id": "6eef0b1e",
   "metadata": {
    "papermill": {
     "duration": 0.011686,
     "end_time": "2024-09-15T13:09:19.509078",
     "exception": false,
     "start_time": "2024-09-15T13:09:19.497392",
     "status": "completed"
    },
    "tags": []
   },
   "source": [
    "<h3>0 --> Negative Tweet\n",
    "    <br>\n",
    "<h3>1 --> Positive Tweet"
   ]
  },
  {
   "cell_type": "markdown",
   "id": "a750d182",
   "metadata": {
    "papermill": {
     "duration": 0.011895,
     "end_time": "2024-09-15T13:09:19.533189",
     "exception": false,
     "start_time": "2024-09-15T13:09:19.521294",
     "status": "completed"
    },
    "tags": []
   },
   "source": [
    "<h2><b>Stemming</b></h2>\n",
    "    <br>\n",
    "<h4>Stemming is the process of reducing a word to its Root word"
   ]
  },
  {
   "cell_type": "code",
   "execution_count": 13,
   "id": "e01a1de9",
   "metadata": {
    "execution": {
     "iopub.execute_input": "2024-09-15T13:09:19.559131Z",
     "iopub.status.busy": "2024-09-15T13:09:19.558699Z",
     "iopub.status.idle": "2024-09-15T13:09:19.564707Z",
     "shell.execute_reply": "2024-09-15T13:09:19.563246Z"
    },
    "papermill": {
     "duration": 0.022081,
     "end_time": "2024-09-15T13:09:19.567188",
     "exception": false,
     "start_time": "2024-09-15T13:09:19.545107",
     "status": "completed"
    },
    "tags": []
   },
   "outputs": [],
   "source": [
    "port_stem = PorterStemmer()\n"
   ]
  },
  {
   "cell_type": "code",
   "execution_count": 14,
   "id": "58bf179b",
   "metadata": {
    "execution": {
     "iopub.execute_input": "2024-09-15T13:09:19.593803Z",
     "iopub.status.busy": "2024-09-15T13:09:19.593350Z",
     "iopub.status.idle": "2024-09-15T13:09:19.600933Z",
     "shell.execute_reply": "2024-09-15T13:09:19.599691Z"
    },
    "papermill": {
     "duration": 0.024313,
     "end_time": "2024-09-15T13:09:19.603522",
     "exception": false,
     "start_time": "2024-09-15T13:09:19.579209",
     "status": "completed"
    },
    "tags": []
   },
   "outputs": [],
   "source": [
    "def stemming(content):\n",
    "    \n",
    "    stemmed_content = re.sub('[^a-zA-Z]',' ', content)\n",
    "    stemmed_content = stemmed_content.lower()\n",
    "    stemmed_content = stemmed_content.split()\n",
    "    stemmed_content = [port_stem.stem(word) for word in stemmed_content if not word in stopwords.words('english')]\n",
    "    stemmed_content = ' '.join(stemmed_content)\n",
    "    \n",
    "    return stemmed_content"
   ]
  },
  {
   "cell_type": "code",
   "execution_count": 15,
   "id": "495ab626",
   "metadata": {
    "execution": {
     "iopub.execute_input": "2024-09-15T13:09:19.630412Z",
     "iopub.status.busy": "2024-09-15T13:09:19.629029Z",
     "iopub.status.idle": "2024-09-15T14:10:48.563672Z",
     "shell.execute_reply": "2024-09-15T14:10:48.561659Z"
    },
    "papermill": {
     "duration": 3688.951496,
     "end_time": "2024-09-15T14:10:48.567164",
     "exception": false,
     "start_time": "2024-09-15T13:09:19.615668",
     "status": "completed"
    },
    "tags": []
   },
   "outputs": [],
   "source": [
    "twitter_data['stemmed_content'] = twitter_data['text'].apply(stemming)"
   ]
  },
  {
   "cell_type": "code",
   "execution_count": 16,
   "id": "ea981cbc",
   "metadata": {
    "execution": {
     "iopub.execute_input": "2024-09-15T14:10:48.594976Z",
     "iopub.status.busy": "2024-09-15T14:10:48.594392Z",
     "iopub.status.idle": "2024-09-15T14:10:48.612721Z",
     "shell.execute_reply": "2024-09-15T14:10:48.611177Z"
    },
    "papermill": {
     "duration": 0.035744,
     "end_time": "2024-09-15T14:10:48.615828",
     "exception": false,
     "start_time": "2024-09-15T14:10:48.580084",
     "status": "completed"
    },
    "tags": []
   },
   "outputs": [
    {
     "data": {
      "text/html": [
       "<div>\n",
       "<style scoped>\n",
       "    .dataframe tbody tr th:only-of-type {\n",
       "        vertical-align: middle;\n",
       "    }\n",
       "\n",
       "    .dataframe tbody tr th {\n",
       "        vertical-align: top;\n",
       "    }\n",
       "\n",
       "    .dataframe thead th {\n",
       "        text-align: right;\n",
       "    }\n",
       "</style>\n",
       "<table border=\"1\" class=\"dataframe\">\n",
       "  <thead>\n",
       "    <tr style=\"text-align: right;\">\n",
       "      <th></th>\n",
       "      <th>target</th>\n",
       "      <th>id</th>\n",
       "      <th>date</th>\n",
       "      <th>flag</th>\n",
       "      <th>user</th>\n",
       "      <th>text</th>\n",
       "      <th>stemmed_content</th>\n",
       "    </tr>\n",
       "  </thead>\n",
       "  <tbody>\n",
       "    <tr>\n",
       "      <th>0</th>\n",
       "      <td>0</td>\n",
       "      <td>1467810369</td>\n",
       "      <td>Mon Apr 06 22:19:45 PDT 2009</td>\n",
       "      <td>NO_QUERY</td>\n",
       "      <td>_TheSpecialOne_</td>\n",
       "      <td>@switchfoot http://twitpic.com/2y1zl - Awww, t...</td>\n",
       "      <td>switchfoot http twitpic com zl awww bummer sho...</td>\n",
       "    </tr>\n",
       "    <tr>\n",
       "      <th>1</th>\n",
       "      <td>0</td>\n",
       "      <td>1467810672</td>\n",
       "      <td>Mon Apr 06 22:19:49 PDT 2009</td>\n",
       "      <td>NO_QUERY</td>\n",
       "      <td>scotthamilton</td>\n",
       "      <td>is upset that he can't update his Facebook by ...</td>\n",
       "      <td>upset updat facebook text might cri result sch...</td>\n",
       "    </tr>\n",
       "    <tr>\n",
       "      <th>2</th>\n",
       "      <td>0</td>\n",
       "      <td>1467810917</td>\n",
       "      <td>Mon Apr 06 22:19:53 PDT 2009</td>\n",
       "      <td>NO_QUERY</td>\n",
       "      <td>mattycus</td>\n",
       "      <td>@Kenichan I dived many times for the ball. Man...</td>\n",
       "      <td>kenichan dive mani time ball manag save rest g...</td>\n",
       "    </tr>\n",
       "    <tr>\n",
       "      <th>3</th>\n",
       "      <td>0</td>\n",
       "      <td>1467811184</td>\n",
       "      <td>Mon Apr 06 22:19:57 PDT 2009</td>\n",
       "      <td>NO_QUERY</td>\n",
       "      <td>ElleCTF</td>\n",
       "      <td>my whole body feels itchy and like its on fire</td>\n",
       "      <td>whole bodi feel itchi like fire</td>\n",
       "    </tr>\n",
       "    <tr>\n",
       "      <th>4</th>\n",
       "      <td>0</td>\n",
       "      <td>1467811193</td>\n",
       "      <td>Mon Apr 06 22:19:57 PDT 2009</td>\n",
       "      <td>NO_QUERY</td>\n",
       "      <td>Karoli</td>\n",
       "      <td>@nationwideclass no, it's not behaving at all....</td>\n",
       "      <td>nationwideclass behav mad see</td>\n",
       "    </tr>\n",
       "  </tbody>\n",
       "</table>\n",
       "</div>"
      ],
      "text/plain": [
       "   target          id                          date      flag  \\\n",
       "0       0  1467810369  Mon Apr 06 22:19:45 PDT 2009  NO_QUERY   \n",
       "1       0  1467810672  Mon Apr 06 22:19:49 PDT 2009  NO_QUERY   \n",
       "2       0  1467810917  Mon Apr 06 22:19:53 PDT 2009  NO_QUERY   \n",
       "3       0  1467811184  Mon Apr 06 22:19:57 PDT 2009  NO_QUERY   \n",
       "4       0  1467811193  Mon Apr 06 22:19:57 PDT 2009  NO_QUERY   \n",
       "\n",
       "              user                                               text  \\\n",
       "0  _TheSpecialOne_  @switchfoot http://twitpic.com/2y1zl - Awww, t...   \n",
       "1    scotthamilton  is upset that he can't update his Facebook by ...   \n",
       "2         mattycus  @Kenichan I dived many times for the ball. Man...   \n",
       "3          ElleCTF    my whole body feels itchy and like its on fire    \n",
       "4           Karoli  @nationwideclass no, it's not behaving at all....   \n",
       "\n",
       "                                     stemmed_content  \n",
       "0  switchfoot http twitpic com zl awww bummer sho...  \n",
       "1  upset updat facebook text might cri result sch...  \n",
       "2  kenichan dive mani time ball manag save rest g...  \n",
       "3                    whole bodi feel itchi like fire  \n",
       "4                      nationwideclass behav mad see  "
      ]
     },
     "execution_count": 16,
     "metadata": {},
     "output_type": "execute_result"
    }
   ],
   "source": [
    "twitter_data.head()"
   ]
  },
  {
   "cell_type": "code",
   "execution_count": 17,
   "id": "4b1931e8",
   "metadata": {
    "execution": {
     "iopub.execute_input": "2024-09-15T14:10:48.644036Z",
     "iopub.status.busy": "2024-09-15T14:10:48.643557Z",
     "iopub.status.idle": "2024-09-15T14:10:49.083493Z",
     "shell.execute_reply": "2024-09-15T14:10:49.082167Z"
    },
    "papermill": {
     "duration": 0.457894,
     "end_time": "2024-09-15T14:10:49.086578",
     "exception": false,
     "start_time": "2024-09-15T14:10:48.628684",
     "status": "completed"
    },
    "tags": []
   },
   "outputs": [],
   "source": [
    "twitter_data.drop(['text'], axis =1,inplace = True)"
   ]
  },
  {
   "cell_type": "code",
   "execution_count": 18,
   "id": "e3d21f37",
   "metadata": {
    "execution": {
     "iopub.execute_input": "2024-09-15T14:10:49.114343Z",
     "iopub.status.busy": "2024-09-15T14:10:49.113856Z",
     "iopub.status.idle": "2024-09-15T14:10:49.120771Z",
     "shell.execute_reply": "2024-09-15T14:10:49.119460Z"
    },
    "papermill": {
     "duration": 0.02405,
     "end_time": "2024-09-15T14:10:49.123666",
     "exception": false,
     "start_time": "2024-09-15T14:10:49.099616",
     "status": "completed"
    },
    "tags": []
   },
   "outputs": [],
   "source": [
    "#separating the data and label\n",
    "X = twitter_data['stemmed_content'].values\n",
    "Y = twitter_data['target'].values"
   ]
  },
  {
   "cell_type": "markdown",
   "id": "1bc7b48e",
   "metadata": {
    "papermill": {
     "duration": 0.014095,
     "end_time": "2024-09-15T14:10:49.150918",
     "exception": false,
     "start_time": "2024-09-15T14:10:49.136823",
     "status": "completed"
    },
    "tags": []
   },
   "source": [
    "<h2>Splitting the data to training data and test data"
   ]
  },
  {
   "cell_type": "code",
   "execution_count": 19,
   "id": "4e3c98f1",
   "metadata": {
    "execution": {
     "iopub.execute_input": "2024-09-15T14:10:49.179830Z",
     "iopub.status.busy": "2024-09-15T14:10:49.179344Z",
     "iopub.status.idle": "2024-09-15T14:10:50.270666Z",
     "shell.execute_reply": "2024-09-15T14:10:50.269234Z"
    },
    "papermill": {
     "duration": 1.109443,
     "end_time": "2024-09-15T14:10:50.273632",
     "exception": false,
     "start_time": "2024-09-15T14:10:49.164189",
     "status": "completed"
    },
    "tags": []
   },
   "outputs": [],
   "source": [
    "X_train, X_test, y_train, y_test = train_test_split(X, Y, test_size = 0.2, stratify = Y, random_state = 42)"
   ]
  },
  {
   "cell_type": "code",
   "execution_count": 20,
   "id": "eaafea94",
   "metadata": {
    "execution": {
     "iopub.execute_input": "2024-09-15T14:10:50.301893Z",
     "iopub.status.busy": "2024-09-15T14:10:50.301303Z",
     "iopub.status.idle": "2024-09-15T14:10:50.307653Z",
     "shell.execute_reply": "2024-09-15T14:10:50.306391Z"
    },
    "papermill": {
     "duration": 0.024398,
     "end_time": "2024-09-15T14:10:50.310785",
     "exception": false,
     "start_time": "2024-09-15T14:10:50.286387",
     "status": "completed"
    },
    "tags": []
   },
   "outputs": [],
   "source": [
    "del X\n",
    "del Y"
   ]
  },
  {
   "cell_type": "markdown",
   "id": "4eaea0dc",
   "metadata": {
    "papermill": {
     "duration": 0.012543,
     "end_time": "2024-09-15T14:10:50.336302",
     "exception": false,
     "start_time": "2024-09-15T14:10:50.323759",
     "status": "completed"
    },
    "tags": []
   },
   "source": [
    "<h2>Converting the textual data to numerical data"
   ]
  },
  {
   "cell_type": "code",
   "execution_count": 21,
   "id": "ef17d02b",
   "metadata": {
    "execution": {
     "iopub.execute_input": "2024-09-15T14:10:50.363928Z",
     "iopub.status.busy": "2024-09-15T14:10:50.363413Z",
     "iopub.status.idle": "2024-09-15T14:11:21.656874Z",
     "shell.execute_reply": "2024-09-15T14:11:21.655403Z"
    },
    "papermill": {
     "duration": 31.311143,
     "end_time": "2024-09-15T14:11:21.660061",
     "exception": false,
     "start_time": "2024-09-15T14:10:50.348918",
     "status": "completed"
    },
    "tags": []
   },
   "outputs": [],
   "source": [
    "vectorizer = TfidfVectorizer()\n",
    "\n",
    "X_train = vectorizer.fit_transform(X_train)\n",
    "X_test = vectorizer.transform(X_test)"
   ]
  },
  {
   "cell_type": "markdown",
   "id": "3d550b33",
   "metadata": {
    "papermill": {
     "duration": 0.012812,
     "end_time": "2024-09-15T14:11:21.688047",
     "exception": false,
     "start_time": "2024-09-15T14:11:21.675235",
     "status": "completed"
    },
    "tags": []
   },
   "source": [
    "<h2>Training the Model"
   ]
  },
  {
   "cell_type": "code",
   "execution_count": 22,
   "id": "e4745a3a",
   "metadata": {
    "execution": {
     "iopub.execute_input": "2024-09-15T14:11:21.717893Z",
     "iopub.status.busy": "2024-09-15T14:11:21.716290Z",
     "iopub.status.idle": "2024-09-15T14:11:21.723057Z",
     "shell.execute_reply": "2024-09-15T14:11:21.721834Z"
    },
    "papermill": {
     "duration": 0.023875,
     "end_time": "2024-09-15T14:11:21.725746",
     "exception": false,
     "start_time": "2024-09-15T14:11:21.701871",
     "status": "completed"
    },
    "tags": []
   },
   "outputs": [],
   "source": [
    "model = LogisticRegression(max_iter = 1000)\n"
   ]
  },
  {
   "cell_type": "code",
   "execution_count": 23,
   "id": "32c21021",
   "metadata": {
    "execution": {
     "iopub.execute_input": "2024-09-15T14:11:21.753177Z",
     "iopub.status.busy": "2024-09-15T14:11:21.752647Z",
     "iopub.status.idle": "2024-09-15T14:14:40.828756Z",
     "shell.execute_reply": "2024-09-15T14:14:40.827271Z"
    },
    "papermill": {
     "duration": 199.101708,
     "end_time": "2024-09-15T14:14:40.839877",
     "exception": false,
     "start_time": "2024-09-15T14:11:21.738169",
     "status": "completed"
    },
    "tags": []
   },
   "outputs": [
    {
     "data": {
      "text/html": [
       "<style>#sk-container-id-1 {color: black;background-color: white;}#sk-container-id-1 pre{padding: 0;}#sk-container-id-1 div.sk-toggleable {background-color: white;}#sk-container-id-1 label.sk-toggleable__label {cursor: pointer;display: block;width: 100%;margin-bottom: 0;padding: 0.3em;box-sizing: border-box;text-align: center;}#sk-container-id-1 label.sk-toggleable__label-arrow:before {content: \"▸\";float: left;margin-right: 0.25em;color: #696969;}#sk-container-id-1 label.sk-toggleable__label-arrow:hover:before {color: black;}#sk-container-id-1 div.sk-estimator:hover label.sk-toggleable__label-arrow:before {color: black;}#sk-container-id-1 div.sk-toggleable__content {max-height: 0;max-width: 0;overflow: hidden;text-align: left;background-color: #f0f8ff;}#sk-container-id-1 div.sk-toggleable__content pre {margin: 0.2em;color: black;border-radius: 0.25em;background-color: #f0f8ff;}#sk-container-id-1 input.sk-toggleable__control:checked~div.sk-toggleable__content {max-height: 200px;max-width: 100%;overflow: auto;}#sk-container-id-1 input.sk-toggleable__control:checked~label.sk-toggleable__label-arrow:before {content: \"▾\";}#sk-container-id-1 div.sk-estimator input.sk-toggleable__control:checked~label.sk-toggleable__label {background-color: #d4ebff;}#sk-container-id-1 div.sk-label input.sk-toggleable__control:checked~label.sk-toggleable__label {background-color: #d4ebff;}#sk-container-id-1 input.sk-hidden--visually {border: 0;clip: rect(1px 1px 1px 1px);clip: rect(1px, 1px, 1px, 1px);height: 1px;margin: -1px;overflow: hidden;padding: 0;position: absolute;width: 1px;}#sk-container-id-1 div.sk-estimator {font-family: monospace;background-color: #f0f8ff;border: 1px dotted black;border-radius: 0.25em;box-sizing: border-box;margin-bottom: 0.5em;}#sk-container-id-1 div.sk-estimator:hover {background-color: #d4ebff;}#sk-container-id-1 div.sk-parallel-item::after {content: \"\";width: 100%;border-bottom: 1px solid gray;flex-grow: 1;}#sk-container-id-1 div.sk-label:hover label.sk-toggleable__label {background-color: #d4ebff;}#sk-container-id-1 div.sk-serial::before {content: \"\";position: absolute;border-left: 1px solid gray;box-sizing: border-box;top: 0;bottom: 0;left: 50%;z-index: 0;}#sk-container-id-1 div.sk-serial {display: flex;flex-direction: column;align-items: center;background-color: white;padding-right: 0.2em;padding-left: 0.2em;position: relative;}#sk-container-id-1 div.sk-item {position: relative;z-index: 1;}#sk-container-id-1 div.sk-parallel {display: flex;align-items: stretch;justify-content: center;background-color: white;position: relative;}#sk-container-id-1 div.sk-item::before, #sk-container-id-1 div.sk-parallel-item::before {content: \"\";position: absolute;border-left: 1px solid gray;box-sizing: border-box;top: 0;bottom: 0;left: 50%;z-index: -1;}#sk-container-id-1 div.sk-parallel-item {display: flex;flex-direction: column;z-index: 1;position: relative;background-color: white;}#sk-container-id-1 div.sk-parallel-item:first-child::after {align-self: flex-end;width: 50%;}#sk-container-id-1 div.sk-parallel-item:last-child::after {align-self: flex-start;width: 50%;}#sk-container-id-1 div.sk-parallel-item:only-child::after {width: 0;}#sk-container-id-1 div.sk-dashed-wrapped {border: 1px dashed gray;margin: 0 0.4em 0.5em 0.4em;box-sizing: border-box;padding-bottom: 0.4em;background-color: white;}#sk-container-id-1 div.sk-label label {font-family: monospace;font-weight: bold;display: inline-block;line-height: 1.2em;}#sk-container-id-1 div.sk-label-container {text-align: center;}#sk-container-id-1 div.sk-container {/* jupyter's `normalize.less` sets `[hidden] { display: none; }` but bootstrap.min.css set `[hidden] { display: none !important; }` so we also need the `!important` here to be able to override the default hidden behavior on the sphinx rendered scikit-learn.org. See: https://github.com/scikit-learn/scikit-learn/issues/21755 */display: inline-block !important;position: relative;}#sk-container-id-1 div.sk-text-repr-fallback {display: none;}</style><div id=\"sk-container-id-1\" class=\"sk-top-container\"><div class=\"sk-text-repr-fallback\"><pre>LogisticRegression(max_iter=1000)</pre><b>In a Jupyter environment, please rerun this cell to show the HTML representation or trust the notebook. <br />On GitHub, the HTML representation is unable to render, please try loading this page with nbviewer.org.</b></div><div class=\"sk-container\" hidden><div class=\"sk-item\"><div class=\"sk-estimator sk-toggleable\"><input class=\"sk-toggleable__control sk-hidden--visually\" id=\"sk-estimator-id-1\" type=\"checkbox\" checked><label for=\"sk-estimator-id-1\" class=\"sk-toggleable__label sk-toggleable__label-arrow\">LogisticRegression</label><div class=\"sk-toggleable__content\"><pre>LogisticRegression(max_iter=1000)</pre></div></div></div></div></div>"
      ],
      "text/plain": [
       "LogisticRegression(max_iter=1000)"
      ]
     },
     "execution_count": 23,
     "metadata": {},
     "output_type": "execute_result"
    }
   ],
   "source": [
    "model.fit(X_train, y_train)"
   ]
  },
  {
   "cell_type": "markdown",
   "id": "ecbaedec",
   "metadata": {
    "papermill": {
     "duration": 0.016291,
     "end_time": "2024-09-15T14:14:40.874904",
     "exception": false,
     "start_time": "2024-09-15T14:14:40.858613",
     "status": "completed"
    },
    "tags": []
   },
   "source": [
    "<h2>Model Evaluation"
   ]
  },
  {
   "cell_type": "code",
   "execution_count": 24,
   "id": "ef945cdb",
   "metadata": {
    "execution": {
     "iopub.execute_input": "2024-09-15T14:14:40.910331Z",
     "iopub.status.busy": "2024-09-15T14:14:40.909827Z",
     "iopub.status.idle": "2024-09-15T14:14:42.242211Z",
     "shell.execute_reply": "2024-09-15T14:14:42.240833Z"
    },
    "papermill": {
     "duration": 1.353439,
     "end_time": "2024-09-15T14:14:42.245203",
     "exception": false,
     "start_time": "2024-09-15T14:14:40.891764",
     "status": "completed"
    },
    "tags": []
   },
   "outputs": [
    {
     "name": "stdout",
     "output_type": "stream",
     "text": [
      "Accuracy Score 0.7786375\n",
      "\n",
      "Precision Score 0.7682172594696058\n",
      "\n",
      "Recall Score 0.7980625\n",
      "\n",
      "f1 Score 0.7828555313044118\n",
      "\n",
      "Confusion Matrix\n",
      " [[121474  38526]\n",
      " [ 32310 127690]]\n",
      "\n",
      "Classification Report\n",
      "               precision    recall  f1-score   support\n",
      "\n",
      "           0       0.79      0.76      0.77    160000\n",
      "           1       0.77      0.80      0.78    160000\n",
      "\n",
      "    accuracy                           0.78    320000\n",
      "   macro avg       0.78      0.78      0.78    320000\n",
      "weighted avg       0.78      0.78      0.78    320000\n",
      "\n"
     ]
    }
   ],
   "source": [
    "y_pred = model.predict(X_test)\n",
    "\n",
    "print('Accuracy Score', accuracy_score(y_test, y_pred))\n",
    "print('\\nPrecision Score', precision_score(y_test, y_pred))\n",
    "print('\\nRecall Score', recall_score(y_test, y_pred))\n",
    "print('\\nf1 Score', f1_score(y_test, y_pred))\n",
    "\n",
    "print('\\nConfusion Matrix\\n', confusion_matrix(y_test, y_pred))\n",
    "print('\\nClassification Report\\n',classification_report(y_test, y_pred))"
   ]
  }
 ],
 "metadata": {
  "kaggle": {
   "accelerator": "none",
   "dataSources": [
    {
     "datasetId": 2477,
     "sourceId": 4140,
     "sourceType": "datasetVersion"
    }
   ],
   "dockerImageVersionId": 30761,
   "isGpuEnabled": false,
   "isInternetEnabled": true,
   "language": "python",
   "sourceType": "notebook"
  },
  "kernelspec": {
   "display_name": "Python 3",
   "language": "python",
   "name": "python3"
  },
  "language_info": {
   "codemirror_mode": {
    "name": "ipython",
    "version": 3
   },
   "file_extension": ".py",
   "mimetype": "text/x-python",
   "name": "python",
   "nbconvert_exporter": "python",
   "pygments_lexer": "ipython3",
   "version": "3.10.14"
  },
  "papermill": {
   "default_parameters": {},
   "duration": 3947.282763,
   "end_time": "2024-09-15T14:14:44.780852",
   "environment_variables": {},
   "exception": null,
   "input_path": "__notebook__.ipynb",
   "output_path": "__notebook__.ipynb",
   "parameters": {},
   "start_time": "2024-09-15T13:08:57.498089",
   "version": "2.6.0"
  }
 },
 "nbformat": 4,
 "nbformat_minor": 5
}
